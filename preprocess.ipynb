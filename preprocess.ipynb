{
 "cells": [
  {
   "cell_type": "code",
   "execution_count": 2,
   "id": "52c97021",
   "metadata": {},
   "outputs": [
    {
     "name": "stdout",
     "output_type": "stream",
     "text": [
      "Directory /Users/doriszhang/Documents/24_Spring/693 MIA/Final project/rewrite fcns/-f_processed already exists.\n"
     ]
    }
   ],
   "source": [
    "import sys\n",
    "import os\n",
    "import cv2\n",
    "import numpy as np\n",
    "\n",
    "def preprocess(foldername, size=500, suffix=\"_processed\"):\n",
    "    \"\"\"\n",
    "    Preprocesses images in the specified folder to ensure they are padded to a uniform size.\n",
    "    \"\"\"\n",
    "    dest_folder = foldername + suffix\n",
    "    processed = os.path.abspath(dest_folder)\n",
    "\n",
    "    if os.path.exists(processed):\n",
    "        print(f'Directory {processed} already exists.')\n",
    "        return None\n",
    "\n",
    "    os.mkdir(processed)\n",
    "\n",
    "    for root, _, files in os.walk(foldername):\n",
    "        for file in files:\n",
    "            path = os.path.join(root, file)\n",
    "            img = cv2.imread(path, cv2.IMREAD_GRAYSCALE)\n",
    "            if img is not None:\n",
    "                img_height, img_width = img.shape[:2]\n",
    "                padding_height, padding_width = (size - img_height) // 2, (size - img_width) // 2\n",
    "\n",
    "                # Calculate the padding for height and width\n",
    "                padding = [\n",
    "                    (padding_height, size - img_height - padding_height),\n",
    "                    (padding_width, size - img_width - padding_width),\n",
    "                    (0, 0)  # no padding for the color channels\n",
    "                ]\n",
    "                \n",
    "                # Apply padding to make the image size (size x size)\n",
    "                final_img = np.pad(img, padding, mode='constant', constant_values=0)\n",
    "\n",
    "                # Save the processed image\n",
    "                save_path = os.path.join(processed, file)\n",
    "                cv2.imwrite(save_path, final_img)\n",
    "                print(f'Saved to: {save_path}')\n",
    "                print(f'Image shape: {final_img.shape}')\n",
    "\n",
    "if __name__ == \"__main__\":\n",
    "    if len(sys.argv) < 2:\n",
    "        print(f'Usage: {sys.argv[0]} <foldername>')\n",
    "    else:\n",
    "        preprocess(sys.argv[1])\n"
   ]
  },
  {
   "cell_type": "code",
   "execution_count": null,
   "id": "1cb5a2f1",
   "metadata": {},
   "outputs": [],
   "source": []
  }
 ],
 "metadata": {
  "kernelspec": {
   "display_name": "Python 3 (ipykernel)",
   "language": "python",
   "name": "python3"
  },
  "language_info": {
   "codemirror_mode": {
    "name": "ipython",
    "version": 3
   },
   "file_extension": ".py",
   "mimetype": "text/x-python",
   "name": "python",
   "nbconvert_exporter": "python",
   "pygments_lexer": "ipython3",
   "version": "3.11.5"
  }
 },
 "nbformat": 4,
 "nbformat_minor": 5
}
